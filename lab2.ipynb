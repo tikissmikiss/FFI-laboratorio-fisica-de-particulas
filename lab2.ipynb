{
 "metadata": {
  "language_info": {
   "codemirror_mode": {
    "name": "ipython",
    "version": 3
   },
   "file_extension": ".py",
   "mimetype": "text/x-python",
   "name": "python",
   "nbconvert_exporter": "python",
   "pygments_lexer": "ipython3",
   "version": 3
  },
  "orig_nbformat": 2
 },
 "nbformat": 4,
 "nbformat_minor": 2,
 "cells": [
  {
   "source": [
    "# <center><span style=\"color:blue\">Laboratorio de física de partículas</span></center>\n",
    "## <center>Geant4 powered with Docker</center>\n",
    "\n",
    "![](https://pbs.twimg.com/media/CWhF64OXIAAtCa4.png) \n",
    "\n",
    "## Objetivo\n",
    "Simular la interacción básica de partículas con ciertos medios gracias al software Geant4, desarrollado por el CERN."
   ],
   "cell_type": "markdown",
   "metadata": {}
  },
  {
   "source": [
    "----\n",
    "La realización de este actividad se ha realizado ejecutando la simulación en un contenedor Docker en local, cortesía del Dr. Alberto Corbi."
   ],
   "cell_type": "markdown",
   "metadata": {}
  },
  {
   "source": [
    "## Pregunta:\n",
    "¿cuál es la diferencia entre una imagen y un contenedor?\n",
    "\n",
    "Una maquina virtual es una virtualizacion de de un equipo fisico completo. Se emula por software todos sus componentes, tanto fisicos como logicoEsto icluye los discos duros, targeta de red, grafica, sonido, etc. Ademas del SO con su kernel y todos sus servicios."
   ],
   "cell_type": "markdown",
   "metadata": {}
  },
  {
   "source": [
    "<span style=\"color:blue\">some *blue* text</span>."
   ],
   "cell_type": "markdown",
   "metadata": {}
  }
 ]
}