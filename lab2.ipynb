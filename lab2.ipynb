{
 "metadata": {
  "language_info": {
   "codemirror_mode": {
    "name": "ipython",
    "version": 3
   },
   "file_extension": ".py",
   "mimetype": "text/x-python",
   "name": "python",
   "nbconvert_exporter": "python",
   "pygments_lexer": "ipython3",
   "version": 3
  },
  "orig_nbformat": 2
 },
 "nbformat": 4,
 "nbformat_minor": 2,
 "cells": [
  {
   "source": [
    "# <center><span style=\"color:blue\">Laboratorio de física de partículas</span></center>\n",
    "## <center>Geant4 powered with Docker</center>\n",
    "\n",
    "![](https://pbs.twimg.com/media/CWhF64OXIAAtCa4.png) \n",
    "\n",
    "## Objetivo\n",
    "Simular la interacción básica de partículas con ciertos medios gracias al software Geant4, desarrollado por el CERN."
   ],
   "cell_type": "markdown",
   "metadata": {}
  },
  {
   "source": [
    "----\n",
    "La realización de este actividad se ha realizado ejecutando la simulación en un contenedor Docker en local, cortesía del Dr. Alberto Corbi."
   ],
   "cell_type": "markdown",
   "metadata": {}
  },
  {
   "source": [
    "## Pregunta:\n",
    "¿cuál es la diferencia entre una imagen y un contenedor?\n",
    "\n",
    "Una maquina virtual es una virtualizacion de de un equipo fisico completo. Se emula por software todos sus componentes, tanto fisicos como logicoEsto icluye los discos duros, targeta de red, grafica, sonido, etc. Ademas del SO con su kernel y todos sus servicios."
   ],
   "cell_type": "markdown",
   "metadata": {}
  },
  {
   "source": [
    "# <center><span style=\"color:blue\">Laboratorio de física de partículas</span></center>\n",
    "\n",
    "## <center>Geant4 powered with Docker</center>\n",
    "\n",
    "![](https://pbs.twimg.com/media/CWhF64OXIAAtCa4.png#center)\n",
    "\n",
    "## Objetivo\n",
    "\n",
    "Simular la interacción básica de partículas con ciertos medios gracias al software Geant4, desarrollado por el CERN.\n",
    "\n",
    "---\n",
    "\n",
    "La realización de este actividad se ha realizado ejecutando la simulación en un contenedor Docker en local, cortesía del Dr. Alberto Corbi.\n",
    "\n",
    "---\n",
    "\n",
    "## Play with Docker\n",
    "\n",
    "Play with Docker es un servicio cloud que nos permite jugar con Docker sin necesidad de instalar Docker localmente. Cada vez que accedemos a una sesión en [Play with Docker](https://labs.play-with-docker.com/), tenemos 4 maravillosas horas para experimentar con Docker, hasta que esta se cierra automáticamente. Parece poco tiempo pero es el suficiente para llevar a cabo nuestro humilde y divertido laboratorio. Dicho de otra manera: tenemos acceso casi ilimitado (en recursos) a un super computador orientado a familiarizarnos con contenedores virtuales durante todo el periodo de duración de la clase/laboratorio. Para acceder a Play with Docker, sólo necesitamos una [cuenta en Docker](https://hub.docker.com/register/). Como en la gran mayoría de servicios, este registro es gratuito, rápido y comporta los típicos pasos de selección de contraseña, envío de correo, confirmación de recepción de correo, etc.\n",
    "\n",
    "Una vez que ya tenemos acceso a la consola de Play with Docker, podemos solicitar máquinas reales (en realidad siguen siendo virtuales, pero a efectos prácticos, las trataremos como si fueran reales) sobre las que ejecutar a su vez contenedores Docker gracias a su [toolkit](https://docs.docker.com/engine/reference/commandline/docker/#child-commands). Al inicio no habrá ninguna, pero podemos crear la primera (y única que necesitamos) con el comando ADD NEW INSTANCE que se puede ver en la imagen.\n",
    "\n",
    "![](https://i.stack.imgur.com/y9qCI.png)\n",
    "\n",
    "Cuando creamos una instancia, es como si accediéramos a una máquina pseudo real (o para lo que a todos los efectos, será una máquina real para nosotros). Se nos abrirá una sesión de shell de GNU Linux (Bash en este caso) justo al lado y sobre la que podemos introducir comados Unix de toda la vida, entre ellos los relacionados con Docker. En estas máquinas cuasi-reales ya está instalado todo el stack de Docker y podemos, a su vez, trabajar con contenedores virtuales basados en esta tecnología de vanguardia. En realidad Play with Docker hace uso de [DIND](https://github.com/jpetazzo/dind). Esta tecnología permite albergar contenedores Docker dentro de un contenedor Docker (sí, algo así como un sueño dentro de un sueño). Es decir: las instancias en Play with Docker son en realidad… ¡contenedores Docker!\n",
    "\n",
    "### Pregunta: ¿cuál es la diferencia entre una imagen y un contenedor?\n",
    "\n",
    "> Una máquina virtual es una visualización de un equipo físico completo. Se emula por software todos sus componentes, tanto físicos como lógico. Esto incluye los discos duros, tarjeta de red, gráfica, sonido, etc. Además del SO con su kernel y todos sus servicios.\n",
    "\n",
    "Fíjate que la instancia que has creado en Play with Docker es como si se tratara de un ordenador tuyo que estuviera en red y en ese ordenador tuvieras instalado Docker. Así de sencillo. A partir de ese momento ya no necesitamos acceder a Play with Docker mediante en el navegador (aunque está bien que lo dejes aparcado a un lado en caso de necesidad). Usaremos VS Code y acceso SSH tradicional, concretamente mediante dos clientes SSH milenarios: [OpenSSH](https://www.openssh.com/) y [Putty](https://www.putty.org/). El primero viene preinstalado típicamente en máquinas GNU/Linux y macOS y el segundo se tiene que descargar y hay versiones para todos los sistemas operativos (es el que se recomienda, por simplicidad, si estás en Windows). Este enunciado viene preparado para uses cualquiera de los dos, en cualquier sistema.\n",
    "\n",
    "Importante: tómate nota del usuario que te da Play with Docker y que empieza por `ip` y acaba en `@direct…` (Ejemplo: `ip172-18-0-27-bg3pvjs3uhdg008ir0fg`). Copia esa cadena de texto y guárdatela para futuros usos. A lo largo de este trabajo nos referiremos a ella con la variable de entorno `$usuariopwd`. También puedes regenerar el contenido de esta variable mediante este comando (a ejecutar en la consola web de Play with Docker):\n",
    "\n",
    "```bash\n",
    "echo ip$(ifconfig eth1 | grep \"inet \" | awk -F'[: ]+' '{ print $4 }' | sed 's/\\./-/g')-$SESSION_ID\n",
    "```\n",
    "\n",
    "### Pregunta: ¿qué hace el comando anterior? ¿De qué subcomandos se compone y qué papel juegan (ifconfig, grep, awk y sed)?\n",
    "\n",
    "> Ejecuta el comando `ifconfig eth1` y su salida la pasa al comando `grep \"inet \"` usando una tubería (pipe), este pasa su salida a `awk -F'[: ]+' '{ print $4 }'` y este a `sed 's/\\./-/g'`. El resultado de esto se utiliza como entrada de la función `ip(...)-$SESSION_ID`, donde `$SESSION_ID` contiene el identificador de la sesión actual.\n",
    "> * **ifconfig eth1:** El comando `ifconfig` muestra las propiedades de las interfaces de red instaladas en el equipo. El argumento `eth1` filtra la salida para que solo devuelva las propiedades de la interfaz de red con ese nombre.\n",
    "> ````s\n",
    "> eth1: flags=4163<UP,BROADCAST,RUNNING,MULTICAST>  mtu 1500\n",
    ">         inet 172.23.122.172  netmask 255.255.240.0  broadcast 172.23.127.255\n",
    ">         inet6 fe80::215:5dff:fe1b:172d  prefixlen 64  scopeid 0x20<link>\n",
    ">         ether 00:15:5d:1b:17:2d  txqueuelen 1000  (Ethernet)\n",
    ">         RX packets 23126  bytes 6106428 (5.8 MiB)\n",
    ">         RX errors 0  dropped 0  overruns 0  frame 0\n",
    ">         TX packets 19  bytes 1426 (1.3 KiB)\n",
    ">         TX errors 0  dropped 0 overruns 0  carrier 0  collisions 0\n",
    "> ```` \n",
    "> * **grep \"inet \":** El comando `grep` busca un texto filtra cualquier contenido entre retornos de carro o cambios de linea que no contengan el fragmento de testo pasado como argumento. En nuestro caso todas las lineas que devuelva el comando `ifconfig eth1` que no contengan la cadena de caracteres `\"inet \"` incluyendo el espacio."
   ],
   "cell_type": "markdown",
   "metadata": {}
  }
 ]
}